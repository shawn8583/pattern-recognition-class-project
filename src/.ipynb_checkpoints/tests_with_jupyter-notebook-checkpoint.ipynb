{
 "cells": [
  {
   "cell_type": "code",
   "execution_count": 1,
   "metadata": {},
   "outputs": [
    {
     "name": "stdout",
     "output_type": "stream",
     "text": [
      "***************************************************************\n",
      "Training data is a (2001, 100) matrix:\n",
      "[[ 0.00000000e+00  1.00000000e+00  2.00000000e+00 ...  9.70000000e+01\n",
      "   9.80000000e+01  9.90000000e+01]\n",
      " [ 1.22300000e+03 -1.77961902e+03  2.10730127e+03 ... -8.61942370e+01\n",
      "   1.28772320e+01  2.38823390e+01]\n",
      " [ 1.22400000e+03 -2.71997339e+03  2.97884375e+03 ... -4.68737700e+00\n",
      "  -4.28034670e+01  1.19861970e+01]\n",
      " ...\n",
      " [ 3.22000000e+03  1.07736768e+03 -6.24962646e+02 ...  3.08739870e+01\n",
      "  -1.76446100e+00  6.32692180e+01]\n",
      " [ 3.22100000e+03  1.62751266e+02  1.92902429e+03 ...  1.28961792e+02\n",
      "   5.91272430e+01 -5.73871399e+02]\n",
      " [ 3.22200000e+03 -6.97708984e+02 -2.36467910e+01 ... -9.68876270e+01\n",
      "  -1.05578690e+02  1.03433350e+02]]\n",
      "***************************************************************\n",
      "\n",
      "\n",
      "***************************************************************\n",
      "AFTER NORMALIZATION AND PCA, Training data is a (2001, 40) matrix:\n",
      "[[ 0.00903092  0.05736275  0.07116463 ...  0.13821811  0.05425126\n",
      "  -0.10783754]\n",
      " [-0.52622563 -0.37335559  0.36128869 ... -0.00605925  0.03407256\n",
      "  -0.0023963 ]\n",
      " [-0.56011042 -0.25687025  0.08680223 ... -0.04734308 -0.01930691\n",
      "  -0.04671061]\n",
      " ...\n",
      " [ 0.29391915  0.06487435 -0.41734331 ... -0.0324944   0.01875088\n",
      "  -0.02363288]\n",
      " [-0.05517482 -0.24016427 -0.41256896 ...  0.02374392  0.06293199\n",
      "   0.04723425]\n",
      " [-0.11171061 -0.02881979 -0.01381963 ... -0.01596097  0.04045386\n",
      "  -0.00491617]]\n",
      "***************************************************************\n",
      "\n",
      "\n"
     ]
    }
   ],
   "source": [
    "import csv\n",
    "import glob\n",
    "import numpy as np\n",
    "import pandas as pd\n",
    "import scipy as sp\n",
    "import matplotlib.pyplot as plt\n",
    "from sklearn.preprocessing import normalize\n",
    "from sklearn.decomposition import PCA\n",
    "\n",
    "training_data_csv = '/home/shawn/projects/pattern_recognition_class_project/face/csv_eigenfaces/faceR_csv.csv'\n",
    "\n",
    "df = pd.read_csv(training_data_csv, sep=',', header=None)\n",
    "# print(df.values)\n",
    "\n",
    "train_data = []\n",
    "train_data = np.matrix(df.values)\n",
    "shape = train_data.shape\n",
    "print('***************************************************************')\n",
    "print('Training data is a %s matrix:' %(train_data.shape,))\n",
    "print(train_data)\n",
    "print('***************************************************************')\n",
    "print('\\n')\n",
    "\n",
    "# Normalize matrix and apply PCA, result in reducing the vector space to 40 out of 99 dimensions\n",
    "model = PCA(n_components=40)\n",
    "pts = normalize(train_data)\n",
    "model.fit(pts)\n",
    "pts2 = model.transform(pts)   # transform() is to standerdize through finding the center\n",
    "\n",
    "print('***************************************************************')\n",
    "print('AFTER NORMALIZATION AND PCA, Training data is a %s matrix:' %(pts2.shape,))\n",
    "print(pts2)\n",
    "print('***************************************************************')\n",
    "print('\\n')\n"
   ]
  },
  {
   "cell_type": "code",
   "execution_count": null,
   "metadata": {},
   "outputs": [],
   "source": [
    "from sklearn.neural_network import MLPClassifier\n",
    "test_data = [[0 1 1 1 1]\n",
    "             [1 1 1 1 1]\n",
    "             [0 1 0 0 1]]\n",
    "test_feature = [[1]\n",
    "                [2]\n",
    "                [1]]\n"
   ]
  }
 ],
 "metadata": {
  "kernelspec": {
   "display_name": "Python 2",
   "language": "python",
   "name": "python2"
  },
  "language_info": {
   "codemirror_mode": {
    "name": "ipython",
    "version": 2
   },
   "file_extension": ".py",
   "mimetype": "text/x-python",
   "name": "python",
   "nbconvert_exporter": "python",
   "pygments_lexer": "ipython2",
   "version": "2.7.16"
  }
 },
 "nbformat": 4,
 "nbformat_minor": 2
}
